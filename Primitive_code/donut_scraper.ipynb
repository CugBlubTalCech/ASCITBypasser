{
 "cells": [
  {
   "cell_type": "code",
   "execution_count": 152,
   "metadata": {},
   "outputs": [],
   "source": [
    "from selenium import webdriver\n",
    "from bs4 import BeautifulSoup\n",
    "import pandas as pd\n",
    "import requests\n",
    "import csv\n",
    "from tqdm import tqdm"
   ]
  },
  {
   "cell_type": "code",
   "execution_count": 153,
   "metadata": {},
   "outputs": [
    {
     "name": "stderr",
     "output_type": "stream",
     "text": [
      "100%|██████████| 14000/14000 [59:11<00:00,  3.94it/s]  "
     ]
    },
    {
     "name": "stdout",
     "output_type": "stream",
     "text": [
      "1014\n"
     ]
    },
    {
     "name": "stderr",
     "output_type": "stream",
     "text": [
      "\n"
     ]
    }
   ],
   "source": [
    "Emails = ['Email']\n",
    "\n",
    "\n",
    "for i in tqdm(range(14000)):\n",
    "\n",
    "    year = ''\n",
    "    link = ''\n",
    "\n",
    "    page = requests.get('https://donut.caltech.edu/1/users?page=1&name=&house_id=&option_id=&building_id=&grad_year=&username=&email=&timezone_from=&timezone_to=&total=6456&per_page=6456')\n",
    "    soup = BeautifulSoup(page.content, 'html.parser')\n",
    "    for anchor in soup.find_all(\"a\"): \n",
    "        \n",
    "        # extract linked url from the anchor\n",
    "        if \"href\" in anchor.attrs:\n",
    "            link = anchor.attrs[\"href\"]\n",
    "        else:\n",
    "            link = ''\n",
    "\n",
    "    length=soup.findAll(\"strong\")\n",
    "    for leng in length:\n",
    "        if 'Matriculation' in leng.text:\n",
    "            year = year + leng.next_sibling\n",
    "\n",
    "    if '2022' in year or '2021' in year or '2020' in year or '2019' in year :\n",
    "        if 'caltech.edu' in link[7:]:\n",
    "            Emails = Emails + [link[7:]]\n",
    "\n",
    "print(len(Emails))\n"
   ]
  },
  {
   "cell_type": "code",
   "execution_count": 154,
   "metadata": {},
   "outputs": [],
   "source": [
    "with open('ug_emails.csv', 'w') as f:\n",
    "    writer = csv.writer(f)\n",
    "    for val in range(len(Emails)):\n",
    "        writer.writerow([Emails[val]])"
   ]
  }
 ],
 "metadata": {
  "kernelspec": {
   "display_name": "Python 3.8.8 ('base')",
   "language": "python",
   "name": "python3"
  },
  "language_info": {
   "codemirror_mode": {
    "name": "ipython",
    "version": 3
   },
   "file_extension": ".py",
   "mimetype": "text/x-python",
   "name": "python",
   "nbconvert_exporter": "python",
   "pygments_lexer": "ipython3",
   "version": "3.8.8"
  },
  "orig_nbformat": 4,
  "vscode": {
   "interpreter": {
    "hash": "503eae1f16998ec21bceae92238b3298807259bd98f36e379cd1820a96515d16"
   }
  }
 },
 "nbformat": 4,
 "nbformat_minor": 2
}
