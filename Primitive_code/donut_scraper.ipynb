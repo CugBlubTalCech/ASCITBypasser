{
 "cells": [
  {
   "cell_type": "code",
   "execution_count": 11,
   "metadata": {},
   "outputs": [],
   "source": [
    "from selenium import webdriver\n",
    "from bs4 import BeautifulSoup\n",
    "import pandas as pd\n",
    "import requests\n",
    "import csv\n",
    "import re\n",
    "from tqdm import tqdm"
   ]
  },
  {
   "cell_type": "code",
   "execution_count": 2,
   "metadata": {},
   "outputs": [],
   "source": [
    "urls = [\"https://donut.caltech.edu/1/users?page=1&name=&house_id=&option_id=&building_id=&grad_year=2023&username=&email=&timezone_from=&timezone_to=&total=287&per_page=287\",\n",
    "        \"https://donut.caltech.edu/1/users?page=1&name=&house_id=&option_id=&building_id=&grad_year=2024&username=&email=&timezone_from=&timezone_to=&total=253&per_page=253\",\n",
    "        \"https://donut.caltech.edu/1/users?page=1&name=&house_id=&option_id=&building_id=&grad_year=2025&username=&email=&timezone_from=&timezone_to=&total=281&per_page=281\",\n",
    "        \"https://donut.caltech.edu/1/users?page=1&name=&house_id=&option_id=&building_id=&grad_year=2026&username=&email=&timezone_from=&timezone_to=&total=238&per_page=238\"]\n",
    "\n",
    "user_refs_year = {}\n",
    "for url in urls:\n",
    "    page_year = requests.get(url)\n",
    "    soup_year = BeautifulSoup(page_year.content, 'html.parser')\n",
    "    for anchor in soup_year.find_all(\"a\"): \n",
    "        # extract linked url from the anchor\n",
    "        if \"href\" in anchor.attrs:\n",
    "            link = anchor.attrs[\"href\"]\n",
    "            if \"/1/users\" in link and \"timezone\" not in link:\n",
    "                user_refs_year[anchor] = [link]\n",
    "        else:\n",
    "            link = ''\n",
    "            user_refs_year[anchor] = [link]"
   ]
  },
  {
   "cell_type": "code",
   "execution_count": 21,
   "metadata": {},
   "outputs": [
    {
     "name": "stderr",
     "output_type": "stream",
     "text": [
      "100%|██████████████████████████████████████████████████████████████████████████████| 1061/1061 [02:27<00:00,  7.19it/s]\n"
     ]
    }
   ],
   "source": [
    "emails = []\n",
    "for i in tqdm(user_refs_year.keys()):\n",
    "    page1 = requests.get(f'https://donut.caltech.edu{user_refs_year[i][0]}')\n",
    "    soup1 = BeautifulSoup(page1.content, 'html.parser')\n",
    "    refs = soup1.find_all(\"a\")\n",
    "    label = soup1.find_all(\"h2\")\n",
    "    for lab in label:\n",
    "        name = lab.text.replace('\\n', '').replace('\\t', '')\n",
    "    email = ''\n",
    "    for anchor in refs:\n",
    "        if \"mailto\" in anchor.attrs[\"href\"]:\n",
    "            email = anchor.attrs[\"href\"].replace('mailto:', '')\n",
    "    emails.append([name, email])"
   ]
  },
  {
   "cell_type": "code",
   "execution_count": 23,
   "metadata": {},
   "outputs": [],
   "source": [
    "with open('ug_emails.csv', 'w', newline='', encoding='utf-8') as f:\n",
    "    writer = csv.writer(f)\n",
    "    for i in range(len(emails)):\n",
    "        if ' ' not in emails[i][0]:\n",
    "            m = re.search(r'^([^A-Z]*[A-Z]){2}', emails[i][0]);\n",
    "            emails[i][0] = emails[i][0][0:m.span()[1] - 1] + ' ' + emails[i][0][m.span()[1] - 1:]\n",
    "        writer.writerow([emails[i][0], emails[i][1]])"
   ]
  },
  {
   "cell_type": "code",
   "execution_count": null,
   "metadata": {
    "scrolled": false
   },
   "outputs": [],
   "source": [
    "print(emails)"
   ]
  },
  {
   "cell_type": "code",
   "execution_count": null,
   "metadata": {},
   "outputs": [],
   "source": []
  }
 ],
 "metadata": {
  "kernelspec": {
   "display_name": "Python 3.9.13 64-bit (microsoft store)",
   "language": "python",
   "name": "python3"
  },
  "language_info": {
   "codemirror_mode": {
    "name": "ipython",
    "version": 3
   },
   "file_extension": ".py",
   "mimetype": "text/x-python",
   "name": "python",
   "nbconvert_exporter": "python",
   "pygments_lexer": "ipython3",
   "version": "3.9.13"
  },
  "vscode": {
   "interpreter": {
    "hash": "c2f53fd392e8efe3f8d867fee770e0b6c90ca993738f986dc9b6c2fd5db26a16"
   }
  }
 },
 "nbformat": 4,
 "nbformat_minor": 2
}
